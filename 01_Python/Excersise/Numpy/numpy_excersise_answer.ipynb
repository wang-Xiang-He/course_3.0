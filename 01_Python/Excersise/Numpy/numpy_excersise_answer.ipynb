{
 "cells": [
  {
   "cell_type": "code",
   "execution_count": 1,
   "id": "2ee836bb",
   "metadata": {
    "id": "cd0bceb7"
   },
   "outputs": [],
   "source": [
    "import numpy as np"
   ]
  },
  {
   "cell_type": "markdown",
   "id": "62d1ec97",
   "metadata": {
    "id": "68b0b0db"
   },
   "source": [
    "# Numpy Excersise"
   ]
  },
  {
   "cell_type": "markdown",
   "id": "0f8fcf8d",
   "metadata": {
    "id": "c489958c"
   },
   "source": [
    "本次測驗分為兩個部分：\n",
    "\n",
    "1. Python 基礎\n",
    "2. Numpy 基礎\n",
    "\n",
    "兩個部分各 4 題，請善用工具及提示。**google 是你的一個好幫手**，如果有任何問題不妨參考前人的智慧，若有任何問題，也可隨時向助教尋求幫助。"
   ]
  },
  {
   "cell_type": "markdown",
   "id": "a7be8000",
   "metadata": {
    "id": "7af2a713"
   },
   "source": [
    "# Python 基礎"
   ]
  },
  {
   "cell_type": "markdown",
   "id": "73e9f59d",
   "metadata": {
    "id": "411096a6"
   },
   "source": [
    "## 1. 質數判斷"
   ]
  },
  {
   "cell_type": "markdown",
   "id": "fc04ae23",
   "metadata": {
    "id": "47f48f1c"
   },
   "source": [
    "**請定義一函式 prime ，輸入為一整數，該函式檢查數字是否為質數。**\n",
    "\n",
    "(若 \"是\"，回傳 **True**；反之，則回傳 **False**。)"
   ]
  },
  {
   "cell_type": "code",
   "execution_count": 2,
   "id": "bc8c2a0a",
   "metadata": {
    "executionInfo": {
     "elapsed": 3,
     "status": "ok",
     "timestamp": 1676603130763,
     "user": {
      "displayName": "吳承澔",
      "userId": "13961364506077809264"
     },
     "user_tz": -480
    },
    "id": "b7129256"
   },
   "outputs": [],
   "source": [
    "def prime(number):\n",
    "    # writting your answer here\n",
    "    ''' \n",
    "        input parameter：\n",
    "            1. number：一整數，用於判斷是否為整數\n",
    "    '''\n",
    "    if number == 2:\n",
    "        return True\n",
    "    elif (number < 2) or (number % 2 == 0):\n",
    "        return False\n",
    "    for i in range(3, number//2+1, 2):\n",
    "        if number%i == 0:\n",
    "            return False\n",
    "    return True\n",
    "    "
   ]
  },
  {
   "cell_type": "code",
   "execution_count": 3,
   "id": "1ebcaf20",
   "metadata": {
    "executionInfo": {
     "elapsed": 2,
     "status": "ok",
     "timestamp": 1676603130763,
     "user": {
      "displayName": "吳承澔",
      "userId": "13961364506077809264"
     },
     "user_tz": -480
    },
    "id": "b74f40ac"
   },
   "outputs": [],
   "source": [
    "# validation cell, do not modifiy this cell\n",
    "assert prime(-17) == False\n",
    "assert prime(0) == False\n",
    "assert prime(2) == True\n",
    "assert prime(6) == False\n",
    "assert prime(17) == True"
   ]
  },
  {
   "cell_type": "markdown",
   "id": "872e4622",
   "metadata": {
    "id": "4b2466bf"
   },
   "source": [
    "## 2. 購物清單"
   ]
  },
  {
   "cell_type": "markdown",
   "id": "1c989976",
   "metadata": {
    "id": "885bf4e0"
   },
   "source": [
    "給定一購物清單 shopping_list，當中包含多個 list。\n",
    "\n",
    "每個 list 都存有一日期、購物項目；每個購物項目皆為三元組，依序為品項、數量、價格。\n",
    "\n",
    "**請幫忙將購物清單整理成 dictionary 的格式，並用以下格式輸出：**\n",
    "\n",
    "* **dictionary 格式：(注意：該字典格式為 \"三層\" 結構)**\n",
    "\n",
    "<img src=\"https://i.imgur.com/qkmUXwp.png\" width=400/>\n",
    "\n",
    "* **輸出格式**\n",
    "\n",
    "<img src=\"https://i.imgur.com/KiaADBh.png\" width=300/>\n",
    "\n",
    "\n"
   ]
  },
  {
   "cell_type": "raw",
   "id": "07a8ffab",
   "metadata": {
    "id": "e8d88241"
   },
   "source": [
    "shopping_list = [['2020.01/24', ('milk', 15, 129.0), ('noodle', 1, 70.0), ('candy', 10, 2.5)],\n",
    "                 ['2020.02/24', ('milk', 15, 129.0), ('noodle', 3, 70.0), ('candy', 10, 2.5)],\n",
    "                 ['2020.02/24', ('milk', 4, 129.0), ('meat', 2, 499.5), ('cookie', 10, 3)],\n",
    "                 ['2022/12-25', ('milk', 15, 129.0), ('coffee', 5, 25), ('cookie', 15, 3), ('meat', 10, 499.5)],\n",
    "                 ['2023-12/26', ('coffee', 7, 25), ('noodle', 2, 70.0), ('candy', 15, 2.5)]]"
   ]
  },
  {
   "cell_type": "code",
   "execution_count": 4,
   "id": "7fac6a86",
   "metadata": {
    "executionInfo": {
     "elapsed": 2,
     "status": "ok",
     "timestamp": 1676603299637,
     "user": {
      "displayName": "吳承澔",
      "userId": "13961364506077809264"
     },
     "user_tz": -480
    },
    "id": "2d4159ec"
   },
   "outputs": [],
   "source": [
    "# writting your answer here\n",
    "shopping_list = [['2020.01/24', ('milk', 15, 129.0), ('noodle', 1, 70.0), ('candy', 10, 2.5)],\n",
    "                 ['2020.02/24', ('milk', 15, 129.0), ('noodle', 3, 70.0), ('candy', 10, 2.5)],\n",
    "                 ['2020.02/24', ('milk', 4, 129.0), ('meat', 2, 499.5), ('cookie', 10, 3)],\n",
    "                 ['2022/12-25', ('milk', 15, 129.0), ('coffee', 5, 25), ('cookie', 15, 3), ('meat', 10, 499.5)],\n",
    "                 ['2023-12/26', ('coffee', 7, 25), ('noodle', 2, 70.0), ('candy', 15, 2.5)]]\n",
    "shopping_dic = {}\n",
    "for l in shopping_list:\n",
    "    data = l[0]\n",
    "    data = data[:4]+'年'+data[5:7]+'月'+data[-2:]+'日'\n",
    "    if data not in shopping_dic:\n",
    "        shopping_dic[data]={}\n",
    "    for item in l[1:]:\n",
    "        if item[0] not in shopping_dic[data]:\n",
    "            shopping_dic[data][item[0]] = {}\n",
    "            shopping_dic[data][item[0]]['count'] = item[1]\n",
    "            shopping_dic[data][item[0]]['price'] = item[2]\n",
    "            continue\n",
    "    shopping_dic[data][item[0]]['count'] += item[1]"
   ]
  },
  {
   "cell_type": "code",
   "execution_count": 5,
   "id": "66a05b0c",
   "metadata": {
    "colab": {
     "base_uri": "https://localhost:8080/"
    },
    "executionInfo": {
     "elapsed": 3,
     "status": "ok",
     "timestamp": 1676603659098,
     "user": {
      "displayName": "吳承澔",
      "userId": "13961364506077809264"
     },
     "user_tz": -480
    },
    "id": "xdFw7WtcWCqq",
    "outputId": "b60559ce-ea92-4c2e-f019-2c6e512418e2"
   },
   "outputs": [
    {
     "data": {
      "text/plain": [
       "{'2020年01月24日': {'milk': {'count': 15, 'price': 129.0},\n",
       "  'noodle': {'count': 1, 'price': 70.0},\n",
       "  'candy': {'count': 20, 'price': 2.5}},\n",
       " '2020年02月24日': {'milk': {'count': 15, 'price': 129.0},\n",
       "  'noodle': {'count': 3, 'price': 70.0},\n",
       "  'candy': {'count': 20, 'price': 2.5},\n",
       "  'meat': {'count': 2, 'price': 499.5},\n",
       "  'cookie': {'count': 20, 'price': 3}},\n",
       " '2022年12月25日': {'milk': {'count': 15, 'price': 129.0},\n",
       "  'coffee': {'count': 5, 'price': 25},\n",
       "  'cookie': {'count': 15, 'price': 3},\n",
       "  'meat': {'count': 20, 'price': 499.5}},\n",
       " '2023年12月26日': {'coffee': {'count': 7, 'price': 25},\n",
       "  'noodle': {'count': 2, 'price': 70.0},\n",
       "  'candy': {'count': 30, 'price': 2.5}}}"
      ]
     },
     "execution_count": 5,
     "metadata": {},
     "output_type": "execute_result"
    }
   ],
   "source": [
    "shopping_dic"
   ]
  },
  {
   "cell_type": "code",
   "execution_count": 6,
   "id": "c9b50163",
   "metadata": {
    "colab": {
     "base_uri": "https://localhost:8080/"
    },
    "executionInfo": {
     "elapsed": 249,
     "status": "ok",
     "timestamp": 1676603922089,
     "user": {
      "displayName": "吳承澔",
      "userId": "13961364506077809264"
     },
     "user_tz": -480
    },
    "id": "SXso3wItWCst",
    "outputId": "9e0e5a3f-233a-47b8-9c46-de60dc64ab1c"
   },
   "outputs": [
    {
     "name": "stdout",
     "output_type": "stream",
     "text": [
      "2020年01月24日\n",
      "    milk: count:15 price:129.0 \t\n",
      "    noodle: count:1 price:70.0 \t\n",
      "    candy: count:20 price:2.5 \t\n",
      "  購入產品36.0件，總共:2055.0\n",
      "2020年02月24日\n",
      "    milk: count:15 price:129.0 \t\n",
      "    noodle: count:3 price:70.0 \t\n",
      "    candy: count:20 price:2.5 \t\n",
      "    meat: count:2 price:499.5 \t\n",
      "    cookie: count:20 price:3 \t\n",
      "  購入產品60.0件，總共:3254.0\n",
      "2022年12月25日\n",
      "    milk: count:15 price:129.0 \t\n",
      "    coffee: count:5 price:25 \t\n",
      "    cookie: count:15 price:3 \t\n",
      "    meat: count:20 price:499.5 \t\n",
      "  購入產品55.0件，總共:12095.0\n",
      "2023年12月26日\n",
      "    coffee: count:7 price:25 \t\n",
      "    noodle: count:2 price:70.0 \t\n",
      "    candy: count:30 price:2.5 \t\n",
      "  購入產品39.0件，總共:390.0\n"
     ]
    }
   ],
   "source": [
    "for data, products in shopping_dic.items():\n",
    "    account = 0\n",
    "    num = 0\n",
    "    print(data)\n",
    "    for count, price in products.items():\n",
    "        print(f'    {count}:', end = ' ')\n",
    "        for key, val in price.items():\n",
    "            print(f'{key}:{val}', end = ' ')\n",
    "            num += price['count']\n",
    "            account += price['count']*price['price']\n",
    "        print('\\t')\n",
    "    print(f'  購入產品{num/2}件，總共:{account/2}')"
   ]
  },
  {
   "cell_type": "markdown",
   "id": "e708e566",
   "metadata": {
    "id": "b9c14b9f"
   },
   "source": [
    "## 3. 捲積運算"
   ]
  },
  {
   "cell_type": "markdown",
   "id": "f78f3df2",
   "metadata": {
    "id": "6c86ae90"
   },
   "source": [
    "捲積運算是透過一個較小的矩陣 (Filters，或稱卷積核 kernel)，平移滑動數個位置 (stride) 在另一矩陣做 element-wise 的相乘並計算其總和得計算方式。  \n",
    "此方法常用在提取圖像的特徵 (稱作 Feature Map)。如下圖所示：\n",
    "\n",
    "<img src=\"https://i.imgur.com/oeM8151.gif\" width=600/>\n",
    "\n",
    "**請試著定義一函式 convolution，輸入為一代表圖像的矩陣 (img) 和卷積核 (kernel)，並回傳計算後的矩陣。平移數 (stride) 皆為 1。**"
   ]
  },
  {
   "cell_type": "code",
   "execution_count": 7,
   "id": "c99cc224",
   "metadata": {
    "executionInfo": {
     "elapsed": 3,
     "status": "ok",
     "timestamp": 1676604628386,
     "user": {
      "displayName": "吳承澔",
      "userId": "13961364506077809264"
     },
     "user_tz": -480
    },
    "id": "iOJG9L2EZGDg"
   },
   "outputs": [],
   "source": [
    "def convolution(img, kernel):\n",
    "     # writting your answer here\n",
    "    ''' \n",
    "        input parameter：\n",
    "            1. img：一個 np.array 的矩陣。\n",
    "            2. kernel：一個 np.array 的矩陣，用來遍歷 img 並計算結果。\n",
    "    '''\n",
    "    img_size = img.shape[0]\n",
    "    kernel_size = kernel.shape[0]\n",
    "    print(f'img_size:{img_size}, kernel_size:{kernel_size}')\n",
    "    new_img_size = img_size - kernel_size + 1\n",
    "    new_img = np.zeros((new_img_size, new_img_size))\n",
    "\n",
    "    for i in range(new_img_size):\n",
    "        for j in range(new_img_size):\n",
    "            print(f'{i}, {j}')\n",
    "            value = 0\n",
    "            for ki in range(kernel_size):\n",
    "                for kj in range(kernel_size):\n",
    "                    value += img[i+ki][j+kj] * kernel[ki][kj]\n",
    "            new_img[i][j] = value\n",
    "    return new_img\n",
    "    pass"
   ]
  },
  {
   "cell_type": "code",
   "execution_count": 8,
   "id": "5b34277a",
   "metadata": {
    "colab": {
     "base_uri": "https://localhost:8080/"
    },
    "executionInfo": {
     "elapsed": 3,
     "status": "ok",
     "timestamp": 1676604632291,
     "user": {
      "displayName": "吳承澔",
      "userId": "13961364506077809264"
     },
     "user_tz": -480
    },
    "id": "0e3d6c66",
    "outputId": "f5fa77b9-97f2-466c-a219-a08bf051d180"
   },
   "outputs": [
    {
     "name": "stdout",
     "output_type": "stream",
     "text": [
      "img_size:5, kernel_size:3\n",
      "0, 0\n",
      "0, 1\n",
      "0, 2\n",
      "1, 0\n",
      "1, 1\n",
      "1, 2\n",
      "2, 0\n",
      "2, 1\n",
      "2, 2\n"
     ]
    }
   ],
   "source": [
    "# validation cell, do not modifiy this cell\n",
    "img = np.arange(1, 26, 1).reshape(5, 5)\n",
    "kernel = np.ones((3,3))\n",
    "assert (convolution(img, kernel) == [[ 63.,  72.,  81.],\n",
    "                                    [108., 117., 126.],\n",
    "                                    [153., 162., 171.]]).all()"
   ]
  },
  {
   "cell_type": "markdown",
   "id": "e0184629",
   "metadata": {
    "id": "ab935c6e"
   },
   "source": [
    "## 4. 凱薩加密"
   ]
  },
  {
   "cell_type": "markdown",
   "id": "19c9492f",
   "metadata": {
    "id": "2ac5fa6d"
   },
   "source": [
    "凱薩加密是一種簡單且廣為人知的替換加密技術。\n",
    "明文 (原始文本) 中的所有字母都在字母表上向後（或向前）按照一個固定數目進行偏移後被替換成密文 (加密後的文本)。\n",
    "這偏移量便是加密技術中所謂的金鑰 (key)，若沒有金鑰便難以進行解密的動作。\n",
    "\n",
    "**請試著定義一個函式 caesar 符合凱薩加密的方法，輸入參數分別為密文(ciphertext)以及金鑰(key)，並返回明文。**\n",
    "\n",
    "<img src=\"https://i.imgur.com/zOFcbnO.png\" width=600/>\n",
    "\n",
    "**hint: 該題只考慮小寫字母 (a ~ z)，不做特殊符號的處理**"
   ]
  },
  {
   "cell_type": "code",
   "execution_count": 9,
   "id": "2cf6ded6",
   "metadata": {
    "colab": {
     "base_uri": "https://localhost:8080/",
     "height": 36
    },
    "executionInfo": {
     "elapsed": 4,
     "status": "ok",
     "timestamp": 1676605119513,
     "user": {
      "displayName": "吳承澔",
      "userId": "13961364506077809264"
     },
     "user_tz": -480
    },
    "id": "3fb60c49",
    "outputId": "525c5602-8cf6-46de-c2da-069261f82fbd"
   },
   "outputs": [],
   "source": [
    "def caesar(ciphertext, key):\n",
    "    # writting your answer here\n",
    "    '''\n",
    "        input parameter：\n",
    "            1. ciphertext：密文\n",
    "            2. key：金鑰\n",
    "    '''\n",
    "    words = [ord(i) for i in ciphertext]\n",
    "    key %= 26\n",
    "    for i, _ in enumerate(words):\n",
    "        if ord('a') <= words[i] <= ord('z'):\n",
    "            words[i] = words[i] - key\n",
    "            if words[i] < ord('a'):\n",
    "                words[i] += 26\n",
    "            elif words[i] > ord('z'):\n",
    "                words[i] -= 26\n",
    "    context = ''\n",
    "    for i in words:\n",
    "        context += chr(i)\n",
    "    print(context)\n",
    "    return context\n",
    "    pass"
   ]
  },
  {
   "cell_type": "code",
   "execution_count": 10,
   "id": "2d191d30",
   "metadata": {
    "id": "265e1f36"
   },
   "outputs": [
    {
     "name": "stdout",
     "output_type": "stream",
     "text": [
      "hello world\n",
      "ai academy\n",
      "have a nice day.\n"
     ]
    }
   ],
   "source": [
    "# validation cell, do not modifiy this cell\n",
    "assert caesar('tqxxa iadxp', 12) == 'hello world'\n",
    "assert caesar('em egehiqc', 56) == 'ai academy'\n",
    "assert caesar('fytc y lgac byw.', 24) == 'have a nice day.'"
   ]
  },
  {
   "cell_type": "markdown",
   "id": "c66b93a4",
   "metadata": {
    "id": "b2fb9c4a"
   },
   "source": [
    "# Numpy 基礎"
   ]
  },
  {
   "cell_type": "markdown",
   "id": "ccae13bc",
   "metadata": {
    "id": "8cf804e1"
   },
   "source": [
    "## 5. 維度"
   ]
  },
  {
   "cell_type": "markdown",
   "id": "f4726fcf",
   "metadata": {
    "id": "3daf2736"
   },
   "source": [
    "有兩陣列 $a$、$b$。$a$ 為一存放兩筆資料的陣列；$b$ 表示 $a$ 的資料分別需要乘上多少倍率。\n",
    "\n",
    "**請透過兩種方式：**\n",
    "\n",
    "**1. 函式 method_1 使用 reshape。**\n",
    "\n",
    "**2. 函式 method_2 使用 squeeze 、 expand_dims。**\n",
    "\n",
    "**使得 $a$ x $b$ 符合題目要求。**"
   ]
  },
  {
   "cell_type": "code",
   "execution_count": 11,
   "id": "1cf67491",
   "metadata": {
    "executionInfo": {
     "elapsed": 787,
     "status": "ok",
     "timestamp": 1676605232403,
     "user": {
      "displayName": "吳承澔",
      "userId": "13961364506077809264"
     },
     "user_tz": -480
    },
    "id": "5a35de6b"
   },
   "outputs": [],
   "source": [
    "# define variable cell, do not modifiy this cell\n",
    "a = np.array([[[[1, 2, 3, 4],\n",
    "                [1, 2, 3, 4],\n",
    "                [1, 2, 3, 4]]],\n",
    "             [[[1, 2, 3, 4],\n",
    "                [1, 2, 3, 4],\n",
    "                [1, 2, 3, 4]]]])\n",
    "b = np.array([[1], [2]])"
   ]
  },
  {
   "cell_type": "code",
   "execution_count": 12,
   "id": "c275f0e5",
   "metadata": {
    "colab": {
     "base_uri": "https://localhost:8080/"
    },
    "executionInfo": {
     "elapsed": 3,
     "status": "ok",
     "timestamp": 1676605338863,
     "user": {
      "displayName": "吳承澔",
      "userId": "13961364506077809264"
     },
     "user_tz": -480
    },
    "id": "568d6f60",
    "outputId": "897a75c8-8edc-4168-9f49-c84e2dce0bd9"
   },
   "outputs": [
    {
     "data": {
      "text/plain": [
       "array([[[[1, 2, 3, 4],\n",
       "         [1, 2, 3, 4],\n",
       "         [1, 2, 3, 4]]],\n",
       "\n",
       "\n",
       "       [[[2, 4, 6, 8],\n",
       "         [2, 4, 6, 8],\n",
       "         [2, 4, 6, 8]]]])"
      ]
     },
     "execution_count": 12,
     "metadata": {},
     "output_type": "execute_result"
    }
   ],
   "source": [
    "def method_1(a, b):\n",
    "    # writting your answer here\n",
    "    ''' \n",
    "        input parameter：\n",
    "            1. a、b：皆一個 np.array 的矩陣，試著完成題目要求。\n",
    "    '''\n",
    "    return a * b.reshape(2, 1, 1, 1)\n",
    "    pass\n",
    "method_1(a, b)"
   ]
  },
  {
   "cell_type": "code",
   "execution_count": 13,
   "id": "68bc314f",
   "metadata": {
    "colab": {
     "base_uri": "https://localhost:8080/"
    },
    "executionInfo": {
     "elapsed": 3,
     "status": "ok",
     "timestamp": 1676605462444,
     "user": {
      "displayName": "吳承澔",
      "userId": "13961364506077809264"
     },
     "user_tz": -480
    },
    "id": "8c283c55",
    "outputId": "90ee26d2-57aa-4898-f922-a63d0deb61df"
   },
   "outputs": [
    {
     "data": {
      "text/plain": [
       "array([[[[1, 2, 3, 4],\n",
       "         [1, 2, 3, 4],\n",
       "         [1, 2, 3, 4]]],\n",
       "\n",
       "\n",
       "       [[[2, 4, 6, 8],\n",
       "         [2, 4, 6, 8],\n",
       "         [2, 4, 6, 8]]]])"
      ]
     },
     "execution_count": 13,
     "metadata": {},
     "output_type": "execute_result"
    }
   ],
   "source": [
    "def method_2(a, b):\n",
    "    # writting your answer here\n",
    "    ''' \n",
    "        input parameter：\n",
    "            1. a、b：皆一個 np.array 的矩陣，試著完成題目要求。\n",
    "    '''\n",
    "    return a * np.expand_dims(np.expand_dims(b, 1), 1)\n",
    "\n",
    "    pass\n",
    "method_2(a, b)"
   ]
  },
  {
   "cell_type": "code",
   "execution_count": 14,
   "id": "8a2020e5",
   "metadata": {
    "id": "784f3025"
   },
   "outputs": [],
   "source": [
    "# validation cell, do not modifiy this cell\n",
    "assert (method_1(a, b) ==  np.array([[[[1, 2, 3, 4],[1, 2, 3, 4],[1, 2, 3, 4]]],\n",
    "                                     [[[2, 4, 6, 8],[2, 4, 6, 8],[2, 4, 6, 8]]]])).all()\n",
    "\n",
    "assert (method_2(a, b) ==  np.array([[[[1, 2, 3, 4],[1, 2, 3, 4],[1, 2, 3, 4]]],\n",
    "                                     [[[2, 4, 6, 8],[2, 4, 6, 8],[2, 4, 6, 8]]]])).all()"
   ]
  },
  {
   "cell_type": "code",
   "execution_count": 15,
   "id": "b47ed71a",
   "metadata": {},
   "outputs": [],
   "source": [
    "def method_1(a, b):\n",
    "    # writting your answer here\n",
    "    ''' \n",
    "        input parameter：\n",
    "            1. a、b：皆一個 np.array 的矩陣，試著完成題目要求。\n",
    "    '''\n",
    "    return a.reshape(2, 3, 4) * b.reshape(2, 1, 1)\n",
    "    pass"
   ]
  },
  {
   "cell_type": "code",
   "execution_count": 16,
   "id": "46eafa62",
   "metadata": {},
   "outputs": [],
   "source": [
    "def method_2(a, b):\n",
    "    # writting your answer here\n",
    "    ''' \n",
    "        input parameter：\n",
    "            1. a、b：皆一個 np.array 的矩陣，試著完成題目要求。\n",
    "    '''\n",
    "    return np.squeeze(a) * np.expand_dims(b, 1)\n",
    "    pass"
   ]
  },
  {
   "cell_type": "code",
   "execution_count": 17,
   "id": "4c3c4763",
   "metadata": {},
   "outputs": [],
   "source": [
    "# validation cell, do not modifiy this cell\n",
    "assert (method_1(a, b) ==  np.array([[[1, 2, 3, 4],[1, 2, 3, 4],[1, 2, 3, 4]],\n",
    "                                     [[2, 4, 6, 8],[2, 4, 6, 8],[2, 4, 6, 8]]])).all()\n",
    "\n",
    "assert (method_2(a, b) ==  np.array([[[1, 2, 3, 4],[1, 2, 3, 4],[1, 2, 3, 4]],\n",
    "                                     [[2, 4, 6, 8],[2, 4, 6, 8],[2, 4, 6, 8]]])).all()"
   ]
  },
  {
   "cell_type": "markdown",
   "id": "337ef2e7",
   "metadata": {
    "id": "1d9cf9c1"
   },
   "source": [
    "# 6. 維度擴充並重複填充"
   ]
  },
  {
   "cell_type": "markdown",
   "id": "14ce53b2",
   "metadata": {
    "id": "eb253ce8"
   },
   "source": [
    "在後續的深度學習課程，我們可能在處理數據的時候碰到某些情況\n",
    "\n",
    "**透過一個 $n$ 維數組來與另一個 $k$ 維數組做一對一運算**\n",
    "\n",
    "這時候該怎麼辦呢？我們會需要先將 $n$ 為數組填充成 $k$ 為數組，並重複數次。\n",
    "\n",
    "如：  \n",
    "一個 $n$ 維數組，填充第 1 維度，並重複 4 次\n",
    "\n",
    "<img src=\"https://i.imgur.com/iTKgwK4.png\" width=300/>\n",
    "\n",
    "一個 $n$ 維數組，填充第 2 維度，並重複 4 次\n",
    "\n",
    "<img src=\"https://i.imgur.com/9GHQa75.png\" width=300/>\n",
    "\n",
    "**請試著定義一函式 expand，輸入為一陣列 (array) 、維度 (axis)、和次數 (k)，可以透過參數改變需要填充的維度以及次數，並回傳結果。**"
   ]
  },
  {
   "cell_type": "code",
   "execution_count": 18,
   "id": "3e300b02",
   "metadata": {
    "id": "5L79Ha1weoH5"
   },
   "outputs": [],
   "source": [
    "a = np.array([[1, 2, 3], [2, 4, 6]])"
   ]
  },
  {
   "cell_type": "code",
   "execution_count": 19,
   "id": "59fe7ba5",
   "metadata": {
    "colab": {
     "base_uri": "https://localhost:8080/"
    },
    "executionInfo": {
     "elapsed": 267,
     "status": "ok",
     "timestamp": 1676605661574,
     "user": {
      "displayName": "吳承澔",
      "userId": "13961364506077809264"
     },
     "user_tz": -480
    },
    "id": "2debf1e2",
    "outputId": "bb1cb8d9-859e-4aea-e811-9c3fe240c545"
   },
   "outputs": [],
   "source": [
    "def expand(array, axis, k):\n",
    "    # writting your answer here\n",
    "    ''' \n",
    "        input parameter：\n",
    "            1. array：一個 np.array 的矩陣。\n",
    "            2. axis：需要填充的維度。\n",
    "            3. k：需要填充次數。\n",
    "    '''\n",
    "    return np.expand_dims(array, axis).repeat(k, axis)\n",
    "    pass"
   ]
  },
  {
   "cell_type": "code",
   "execution_count": 20,
   "id": "2ea69f80",
   "metadata": {},
   "outputs": [
    {
     "data": {
      "text/plain": [
       "array([[[1, 2, 3],\n",
       "        [2, 4, 6]],\n",
       "\n",
       "       [[1, 2, 3],\n",
       "        [2, 4, 6]],\n",
       "\n",
       "       [[1, 2, 3],\n",
       "        [2, 4, 6]],\n",
       "\n",
       "       [[1, 2, 3],\n",
       "        [2, 4, 6]]])"
      ]
     },
     "execution_count": 20,
     "metadata": {},
     "output_type": "execute_result"
    }
   ],
   "source": [
    "expand(a, 0, 4) # 注意，填充第幾個維度是從零開始算"
   ]
  },
  {
   "cell_type": "code",
   "execution_count": 21,
   "id": "8644b526",
   "metadata": {
    "id": "tyW7-LmVe4JF"
   },
   "outputs": [
    {
     "data": {
      "text/plain": [
       "array([[[1, 2, 3],\n",
       "        [1, 2, 3],\n",
       "        [1, 2, 3],\n",
       "        [1, 2, 3]],\n",
       "\n",
       "       [[2, 4, 6],\n",
       "        [2, 4, 6],\n",
       "        [2, 4, 6],\n",
       "        [2, 4, 6]]])"
      ]
     },
     "execution_count": 21,
     "metadata": {},
     "output_type": "execute_result"
    }
   ],
   "source": [
    "expand(a, 1, 4) # 注意，填充第幾個維度是從零開始算"
   ]
  },
  {
   "cell_type": "markdown",
   "id": "4759b6fe",
   "metadata": {
    "id": "bc040652"
   },
   "source": [
    "## 7. PCA"
   ]
  },
  {
   "cell_type": "markdown",
   "id": "44b02ed4",
   "metadata": {
    "id": "39021fcb"
   },
   "source": [
    "主成分分析 (Principal Component Analysis, PCA)，這是在後續得課程中會提及的統計分析方法。  \n",
    "假設共變異數矩陣 (covariance matrix) $C$ 的特徵向量組成的矩陣為 $W$，特徵值組成的對角矩陣為 $D$，則以下公式成立：\n",
    "\n",
    "$\n",
    "CW = WD → CWW^{-1} = WDW^{-1} → C = WDW^{-1}\n",
    "$\n",
    "\n",
    "在上式中，共變異數矩陣 $C$ ($m$×$m$) 被分解為特徵向量 $W$ ($m$×$m$)的矩陣和 $m$ 個特徵值 $D$ 的對角矩陣。  \n",
    "特徵向量是 $W$ 中的列向量。然後，我們可以使用矩陣乘法將數據 $X$ 投射到主成分 (PC) 空間上。\n",
    "\n",
    "$\n",
    "X = XW\n",
    "$\n",
    "\n",
    "我們可以使用 numpy 輕鬆的實現 PCA，因為 numpy 已經完成了特徵分解的關鍵功能（np.linalg.eig）。  \n",
    "\n",
    "**請試著定義一函式 pca，輸入為一矩陣 (X)，請回傳矩陣 X 的 PCA。**\n",
    "\n",
    "**hint 1：np.dot、np.linalg.eig**\n",
    "\n",
    "**hint 2：矩陣 $M$ 的共變異數矩陣 $C$ 可透過 $\\frac{M^TM}{\\text{M 的 row 數量}}$ 取得。**\n"
   ]
  },
  {
   "cell_type": "code",
   "execution_count": 22,
   "id": "c3c22652",
   "metadata": {
    "executionInfo": {
     "elapsed": 2,
     "status": "ok",
     "timestamp": 1676605994435,
     "user": {
      "displayName": "吳承澔",
      "userId": "13961364506077809264"
     },
     "user_tz": -480
    },
    "id": "811cfa2c"
   },
   "outputs": [],
   "source": [
    "def pca(X):\n",
    "    # writting your answer here\n",
    "    ''' \n",
    "        input parameter：\n",
    "            1. X：一個 np.array 的矩陣，試著計算其 PCA。\n",
    "    '''\n",
    "    n, m = X.shape\n",
    "    print(f'n:{n}, m:{m}')\n",
    "    C = np.dot(X.T, X) / (n-1)\n",
    "    _, v = np.linalg.eig(C)\n",
    "    X_pca = np.dot(X, v)\n",
    "    return X_pca\n",
    "    pass"
   ]
  },
  {
   "cell_type": "markdown",
   "id": "01246109",
   "metadata": {
    "id": "0cfd414d"
   },
   "source": [
    "## 8. 矩陣總和"
   ]
  },
  {
   "cell_type": "markdown",
   "id": "968e8821",
   "metadata": {
    "id": "50e5678f"
   },
   "source": [
    "**請試著定義一函式 matrixElementsSum，輸入為一矩陣 (X)，計算矩陣中所有數字的總和，若該值的上方 \"出現過\" 0，則不予計算**\n",
    "\n",
    "例如：一矩陣如圖\n",
    "\n",
    "<img src=\"https://i.imgur.com/bP55zdH.png\" width=300/>\n",
    "\n",
    "由於紅色數字上方皆沒有 0 出現，故總數為 1 + 2 + 3 + 5 = 11  \n",
    "因此輸出應為：matrixElementsSum(matrix) = 11\n",
    "\n",
    "**hint：np.where、.item、.itemset**"
   ]
  },
  {
   "cell_type": "code",
   "execution_count": 23,
   "id": "2f3688bb",
   "metadata": {
    "colab": {
     "base_uri": "https://localhost:8080/"
    },
    "executionInfo": {
     "elapsed": 733,
     "status": "ok",
     "timestamp": 1676606675049,
     "user": {
      "displayName": "吳承澔",
      "userId": "13961364506077809264"
     },
     "user_tz": -480
    },
    "id": "613324a1",
    "outputId": "a08fdec3-20ba-4158-d14c-710f68100e88"
   },
   "outputs": [],
   "source": [
    "def matrixElementsSum(M):\n",
    "    # writting your answer here\n",
    "    ''' \n",
    "        input parameter：\n",
    "            1. M：一個 np.array 的矩陣。是求出題目要求。\n",
    "    '''\n",
    "    array = np.array(M)\n",
    "    print(array)\n",
    "    zero_index = np.where(array==0)\n",
    "    print(f\"zero_index:{zero_index}\")\n",
    "\n",
    "    zero_count = len(zero_index[0])\n",
    "    print(f'zero_count:{zero_count}')\n",
    "\n",
    "    array_rows, _ = array.shape \n",
    "    print(f\"array_rows:{array_rows}\")\n",
    "\n",
    "    for i in range(zero_count):\n",
    "        y, x = zero_index\n",
    "        y_index = y[i]\n",
    "        x_index = x[i]\n",
    "        print(f'x_index:{x_index}, y_index:{y_index}')\n",
    "\n",
    "        while y_index < array_rows:\n",
    "            print(f'array_rows:{array_rows}, y_index:{y_index}, x_index:{x_index}')\n",
    "            array.itemset((y_index,x_index),0)\n",
    "            y_index+=1\n",
    "    total = np.sum(array)\n",
    "    return total"
   ]
  },
  {
   "cell_type": "code",
   "execution_count": 24,
   "id": "dae5838a",
   "metadata": {
    "colab": {
     "base_uri": "https://localhost:8080/",
     "height": 445
    },
    "executionInfo": {
     "elapsed": 8,
     "status": "error",
     "timestamp": 1676606563740,
     "user": {
      "displayName": "吳承澔",
      "userId": "13961364506077809264"
     },
     "user_tz": -480
    },
    "id": "9625b12a",
    "outputId": "a3bcddee-f96e-4dad-8060-a0378340de39"
   },
   "outputs": [
    {
     "name": "stdout",
     "output_type": "stream",
     "text": [
      "[[0 1 2 3]\n",
      " [4 5 0 0]\n",
      " [6 0 7 8]]\n",
      "zero_index:(array([0, 1, 1, 2]), array([0, 2, 3, 1]))\n",
      "zero_count:4\n",
      "array_rows:3\n",
      "x_index:0, y_index:0\n",
      "array_rows:3, y_index:0, x_index:0\n",
      "array_rows:3, y_index:1, x_index:0\n",
      "array_rows:3, y_index:2, x_index:0\n",
      "x_index:2, y_index:1\n",
      "array_rows:3, y_index:1, x_index:2\n",
      "array_rows:3, y_index:2, x_index:2\n",
      "x_index:3, y_index:1\n",
      "array_rows:3, y_index:1, x_index:3\n",
      "array_rows:3, y_index:2, x_index:3\n",
      "x_index:1, y_index:2\n",
      "array_rows:3, y_index:2, x_index:1\n"
     ]
    }
   ],
   "source": [
    "assert matrixElementsSum([[0, 1, 2, 3], \n",
    "                         [4, 5, 0, 0], \n",
    "                         [6, 0, 7, 8]]) == 11"
   ]
  }
 ],
 "metadata": {
  "colab": {
   "provenance": [
    {
     "file_id": "https://github.com/TA-aiacademy/course_3.0/blob/python/01_Python/Excersise/Numpy/numpy_excersise.ipynb",
     "timestamp": 1676602839926
    }
   ]
  },
  "kernelspec": {
   "display_name": "Python 3 (ipykernel)",
   "language": "python",
   "name": "python3"
  },
  "language_info": {
   "codemirror_mode": {
    "name": "ipython",
    "version": 3
   },
   "file_extension": ".py",
   "mimetype": "text/x-python",
   "name": "python",
   "nbconvert_exporter": "python",
   "pygments_lexer": "ipython3",
   "version": "3.7.12"
  }
 },
 "nbformat": 4,
 "nbformat_minor": 5
}
